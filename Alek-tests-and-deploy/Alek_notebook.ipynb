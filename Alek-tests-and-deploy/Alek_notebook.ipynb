{
 "cells": [
  {
   "cell_type": "code",
   "execution_count": 1,
   "metadata": {},
   "outputs": [],
   "source": [
    "from gophish import Gophish\n",
    "from gophish.models import SMTP, Page, Template, Campaign, User, Group\n",
    "import json\n",
    "import subprocess"
   ]
  },
  {
   "cell_type": "code",
   "execution_count": null,
   "metadata": {},
   "outputs": [],
   "source": [
    "from email_generator import generate_email_content"
   ]
  },
  {
   "cell_type": "code",
   "execution_count": 5,
   "metadata": {},
   "outputs": [],
   "source": [
    "def config_and_start(config_path):\n",
    "    with open(config_path, \"r\") as file:\n",
    "        config = json.load(file)\n",
    "        GOPHISH_API_KEY = config.get(\"GOPHISH_API_KEY\")\n",
    "        email_pass = config.get(\"email_pass\")\n",
    "        email_address = config.get(\"email_address\")\n",
    "        host =  config.get(\"host\")\n",
    "        port = config.get(\"port\")\n",
    "        gophish_api = Gophish(GOPHISH_API_KEY, verify=False)\n",
    "    \n",
    "    return(email_address, email_pass, host, port, gophish_api)"
   ]
  },
  {
   "cell_type": "code",
   "execution_count": 6,
   "metadata": {},
   "outputs": [],
   "source": [
    "email_address, email_pass, host, port, gophish_api = config_and_start(\"Alek_config.json\")"
   ]
  },
  {
   "cell_type": "code",
   "execution_count": 7,
   "metadata": {},
   "outputs": [],
   "source": [
    "def create_sending_profile(name):\n",
    "    \n",
    "    sending_profile = SMTP(\n",
    "    name=name,\n",
    "    from_address=email_address,\n",
    "    from_name=name,\n",
    "    reply_to_address=email_address,  \n",
    "    host=host,  \n",
    "    username=email_address,  \n",
    "    password=email_pass,  \n",
    "    port=587,  \n",
    "    tls=True,  \n",
    "    ssl=False,)\n",
    "\n",
    "    gophish_api.smtp.post(sending_profile)\n"
   ]
  },
  {
   "cell_type": "code",
   "execution_count": null,
   "metadata": {},
   "outputs": [],
   "source": [
    "create_sending_profile('Document Sign')"
   ]
  },
  {
   "cell_type": "code",
   "execution_count": 9,
   "metadata": {},
   "outputs": [],
   "source": [
    "def clear_sending_profiles():\n",
    "    for sending_profile in gophish_api.smtp.get():\n",
    "        gophish_api.smtp.delete(sending_profile.id)"
   ]
  },
  {
   "cell_type": "code",
   "execution_count": 94,
   "metadata": {},
   "outputs": [],
   "source": [
    "def html_reader(file_path):\n",
    "    with open(file_path, \"r\") as file:\n",
    "        html_str = file.read()\n",
    "    return html_str\n"
   ]
  },
  {
   "cell_type": "code",
   "execution_count": null,
   "metadata": {},
   "outputs": [],
   "source": [
    "html_reader(\"../web-pages/index.html\")"
   ]
  },
  {
   "cell_type": "code",
   "execution_count": 10,
   "metadata": {},
   "outputs": [],
   "source": [
    "def create_landing_page(name, html_str):\n",
    "    landing_page = Page(\n",
    "        name=name,\n",
    "        redirect_url=\"https://alkszo.github.io/security-training/landing_page\",\n",
    "        html=html_str, \n",
    "        capture_credentials=True,\n",
    "        capture_passwords=True \n",
    "    )\n",
    "\n",
    "    gophish_api.pages.post(landing_page)"
   ]
  },
  {
   "cell_type": "code",
   "execution_count": null,
   "metadata": {},
   "outputs": [],
   "source": [
    "create_landing_page(\"Scammer\", html_reader(\"../web-pages/index.html\"))\n",
    "#\"127.0.0.1:3333\"\n"
   ]
  },
  {
   "cell_type": "code",
   "execution_count": 103,
   "metadata": {},
   "outputs": [],
   "source": [
    "def clear_landing_pages():\n",
    "    for slanding_page in gophish_api.pages.get():\n",
    "        gophish_api.pages.delete(slanding_page.id)"
   ]
  },
  {
   "cell_type": "code",
   "execution_count": null,
   "metadata": {},
   "outputs": [],
   "source": [
    "clear_landing_pages()"
   ]
  },
  {
   "cell_type": "code",
   "execution_count": 106,
   "metadata": {},
   "outputs": [],
   "source": [
    "def create_email_template(name, subject, html_str):\n",
    "    email_template = Template(\n",
    "        name=name,\n",
    "        subject=subject,\n",
    "        html=html_str,    \n",
    "    )\n",
    "\n",
    "    gophish_api.templates.post(email_template)"
   ]
  },
  {
   "cell_type": "code",
   "execution_count": null,
   "metadata": {},
   "outputs": [],
   "source": [
    "create_email_template('Scammer', 'Document Sign', html_reader('docu_sign_mail.html'))"
   ]
  },
  {
   "cell_type": "code",
   "execution_count": 108,
   "metadata": {},
   "outputs": [],
   "source": [
    "def clean_email_templates():\n",
    "    for email_template in gophish_api.templates.get():\n",
    "        gophish_api.templates.delete(email_template.id)"
   ]
  },
  {
   "cell_type": "code",
   "execution_count": null,
   "metadata": {},
   "outputs": [],
   "source": [
    "clean_email_templates()"
   ]
  },
  {
   "cell_type": "code",
   "execution_count": 111,
   "metadata": {},
   "outputs": [],
   "source": [
    "def create_group(name, first_name, last_name, email, position):\n",
    "    group = Group(\n",
    "        name=name, \n",
    "        targets=[User(first_name=first_name, last_name=last_name, email=email, position=position)]\n",
    "    )\n",
    "\n",
    "    gophish_api.groups.post(group)"
   ]
  },
  {
   "cell_type": "code",
   "execution_count": null,
   "metadata": {},
   "outputs": [],
   "source": [
    "create_group('group1', 'Alek', 'Szostakowski', 'aleksander.szostakowski@gmail.com', 'data janitor')"
   ]
  },
  {
   "cell_type": "code",
   "execution_count": 113,
   "metadata": {},
   "outputs": [],
   "source": [
    "def clear_groups():\n",
    "    for group in gophish_api.groups.get():\n",
    "        gophish_api.groups.delete(group.id)"
   ]
  },
  {
   "cell_type": "code",
   "execution_count": null,
   "metadata": {},
   "outputs": [],
   "source": [
    "clear_groups()"
   ]
  },
  {
   "cell_type": "code",
   "execution_count": 117,
   "metadata": {},
   "outputs": [],
   "source": [
    "def create_campaign(name, template_name, page_name, sending_profile_name, group_name):\n",
    "    campaign = Campaign(\n",
    "    name=name,\n",
    "    template=Template(name=template_name),\n",
    "    page = Page(name=page_name),\n",
    "    smtp=SMTP(name=sending_profile_name),\n",
    "    groups=[Group(name=group_name)],\n",
    "    url=\"http://127.0.0.1\"\n",
    ")\n",
    "    \n",
    "    gophish_api.campaigns.post(campaign)"
   ]
  },
  {
   "cell_type": "code",
   "execution_count": null,
   "metadata": {},
   "outputs": [],
   "source": [
    "create_campaign('Scam', 'Scammer', 'Scammer', 'Document Sign', 'group1')"
   ]
  },
  {
   "cell_type": "code",
   "execution_count": 75,
   "metadata": {},
   "outputs": [],
   "source": []
  },
  {
   "cell_type": "code",
   "execution_count": null,
   "metadata": {},
   "outputs": [],
   "source": []
  },
  {
   "cell_type": "code",
   "execution_count": null,
   "metadata": {},
   "outputs": [],
   "source": []
  }
 ],
 "metadata": {
  "kernelspec": {
   "display_name": "Python 3",
   "language": "python",
   "name": "python3"
  },
  "language_info": {
   "codemirror_mode": {
    "name": "ipython",
    "version": 3
   },
   "file_extension": ".py",
   "mimetype": "text/x-python",
   "name": "python",
   "nbconvert_exporter": "python",
   "pygments_lexer": "ipython3",
   "version": "3.11.0"
  }
 },
 "nbformat": 4,
 "nbformat_minor": 2
}
