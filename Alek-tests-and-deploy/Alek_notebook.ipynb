{
 "cells": [
  {
   "cell_type": "code",
   "execution_count": 1,
   "metadata": {},
   "outputs": [],
   "source": [
    "import random\n",
    "from gophish import Gophish\n",
    "from gophish.models import SMTP, Page, Template, Campaign, User, Group\n",
    "import urllib3\n",
    "import json"
   ]
  },
  {
   "cell_type": "code",
   "execution_count": 2,
   "metadata": {},
   "outputs": [],
   "source": [
    "config_file = \"Alek_config.json\"\n",
    "\n",
    "with open(config_file, \"r\") as file:\n",
    "    config = json.load(file)\n",
    "    GOPHISH_API_KEY = config.get(\"GOPHISH_API_KEY\")\n",
    "    gmail_pass = config.get(\"gmail_pass\")"
   ]
  },
  {
   "cell_type": "code",
   "execution_count": 3,
   "metadata": {},
   "outputs": [],
   "source": [
    "phish_api = Gophish(GOPHISH_API_KEY, verify=False)"
   ]
  },
  {
   "cell_type": "code",
   "execution_count": 50,
   "metadata": {},
   "outputs": [],
   "source": [
    "# SMTP Sending Profile Data\n",
    "sending_profile = SMTP(\n",
    "    name=\"Document Sign\",\n",
    "    from_address=\"aleksander.szostakowski@gmail.com\",  # Replace with your email address\n",
    "    from_name=\"Docusign\",\n",
    "    reply_to_address=\"aleksander.szostakowski@gmail.com\",  # Replace with your email address\n",
    "    host=\"smtp.gmail.com:587\",  # Replace with your SMTP server host\n",
    "    username=\"aleksander.szostakowski@gmail.com\",  # Replace with your SMTP username\n",
    "    password=gmail_pass,  # Replace with your SMTP password\n",
    "    port=587,  # SMTP port (use 465 for SSL, 587 for TLS)\n",
    "    tls=True,  # Use TLS if needed\n",
    "    ssl=False,  # Use SSL if needed\n",
    ")\n"
   ]
  },
  {
   "cell_type": "code",
   "execution_count": 51,
   "metadata": {},
   "outputs": [
    {
     "name": "stderr",
     "output_type": "stream",
     "text": [
      "c:\\Python311\\Lib\\site-packages\\urllib3\\connectionpool.py:981: InsecureRequestWarning: Unverified HTTPS request is being made to host 'localhost'. Adding certificate verification is strongly advised. See: https://urllib3.readthedocs.io/en/latest/advanced-usage.html#ssl-warnings\n",
      "  warnings.warn(\n"
     ]
    }
   ],
   "source": [
    "smtp = phish_api.smtp.post(sending_profile)"
   ]
  },
  {
   "cell_type": "code",
   "execution_count": 7,
   "metadata": {},
   "outputs": [
    {
     "name": "stdout",
     "output_type": "stream",
     "text": [
      "{'id': 2, 'interface_type': 'SMTP', 'name': 'Training Sending Profile', 'host': 'smtp.gmail.com:587', 'username': 'aleksander.szostakowski@gmail.com', 'password': 'icil uzig kfil fjba', 'from_address': 'aleksander.szostakowski@gmail.com', 'ignore_cert_errors': False, 'modified_date': datetime.datetime(2025, 1, 15, 13, 54, 40, 328839, tzinfo=tzutc()), 'headers': []}\n",
      "{'id': 3, 'interface_type': 'SMTP', 'name': 'Document Sign', 'host': 'smtp.gmail.com:587', 'username': 'aleksander.szostakowski@gmail.com', 'password': 'icil uzig kfil fjba', 'from_address': 'aleksander.szostakowski@gmail.com', 'ignore_cert_errors': False, 'modified_date': datetime.datetime(2025, 1, 16, 13, 54, 20, 361290, tzinfo=tzutc()), 'headers': []}\n"
     ]
    },
    {
     "name": "stderr",
     "output_type": "stream",
     "text": [
      "c:\\Python311\\Lib\\site-packages\\urllib3\\connectionpool.py:981: InsecureRequestWarning: Unverified HTTPS request is being made to host 'localhost'. Adding certificate verification is strongly advised. See: https://urllib3.readthedocs.io/en/latest/advanced-usage.html#ssl-warnings\n",
      "  warnings.warn(\n"
     ]
    }
   ],
   "source": [
    "for mod in phish_api.smtp.get():\n",
    "    print(mod.__dict__)"
   ]
  },
  {
   "cell_type": "code",
   "execution_count": 68,
   "metadata": {},
   "outputs": [],
   "source": [
    "with open(\"../web-pages/index.html\", \"r\") as file:\n",
    "    dummy_html = file.read()\n"
   ]
  },
  {
   "cell_type": "code",
   "execution_count": 69,
   "metadata": {},
   "outputs": [],
   "source": [
    "landing_page = Page(\n",
    "            name=\"Document Sign Page\",\n",
    "            url=\"127.0.0.1:3333\",\n",
    "            html=dummy_html,\n",
    "            capture_credentials=True,\n",
    "            capture_passwords=True\n",
    "        )"
   ]
  },
  {
   "cell_type": "code",
   "execution_count": 70,
   "metadata": {},
   "outputs": [
    {
     "name": "stderr",
     "output_type": "stream",
     "text": [
      "c:\\Python311\\Lib\\site-packages\\urllib3\\connectionpool.py:981: InsecureRequestWarning: Unverified HTTPS request is being made to host 'localhost'. Adding certificate verification is strongly advised. See: https://urllib3.readthedocs.io/en/latest/advanced-usage.html#ssl-warnings\n",
      "  warnings.warn(\n"
     ]
    },
    {
     "data": {
      "text/plain": [
       "<gophish.models.Page at 0x25a14b53490>"
      ]
     },
     "execution_count": 70,
     "metadata": {},
     "output_type": "execute_result"
    }
   ],
   "source": [
    "phish_api.pages.post(landing_page)"
   ]
  },
  {
   "cell_type": "code",
   "execution_count": 71,
   "metadata": {},
   "outputs": [],
   "source": [
    "with open('docu_sign_mail.html') as file:\n",
    "    dummy_mail = file.read()\n"
   ]
  },
  {
   "cell_type": "code",
   "execution_count": 72,
   "metadata": {},
   "outputs": [],
   "source": [
    "email_template = Template(\n",
    "    name='Docu Sign Scam',\n",
    "    subject='Sign Company Documents',\n",
    "    html=dummy_mail,    \n",
    ")"
   ]
  },
  {
   "cell_type": "code",
   "execution_count": 73,
   "metadata": {},
   "outputs": [
    {
     "name": "stderr",
     "output_type": "stream",
     "text": [
      "c:\\Python311\\Lib\\site-packages\\urllib3\\connectionpool.py:981: InsecureRequestWarning: Unverified HTTPS request is being made to host 'localhost'. Adding certificate verification is strongly advised. See: https://urllib3.readthedocs.io/en/latest/advanced-usage.html#ssl-warnings\n",
      "  warnings.warn(\n"
     ]
    },
    {
     "data": {
      "text/plain": [
       "<gophish.models.Template at 0x25a15a84cd0>"
      ]
     },
     "execution_count": 73,
     "metadata": {},
     "output_type": "execute_result"
    }
   ],
   "source": [
    "phish_api.templates.post(email_template)"
   ]
  },
  {
   "cell_type": "code",
   "execution_count": 42,
   "metadata": {},
   "outputs": [],
   "source": [
    "group_2 = Group(name='Example Gr', targets=[User(first_name='Alek', last_name='Szostakowski', email='aleksander.szostakowski@gmail.com', posistion='data janitor')])"
   ]
  },
  {
   "cell_type": "code",
   "execution_count": 43,
   "metadata": {},
   "outputs": [
    {
     "name": "stderr",
     "output_type": "stream",
     "text": [
      "c:\\Python311\\Lib\\site-packages\\urllib3\\connectionpool.py:981: InsecureRequestWarning: Unverified HTTPS request is being made to host 'localhost'. Adding certificate verification is strongly advised. See: https://urllib3.readthedocs.io/en/latest/advanced-usage.html#ssl-warnings\n",
      "  warnings.warn(\n"
     ]
    },
    {
     "ename": "Error",
     "evalue": "Group name already in use",
     "output_type": "error",
     "traceback": [
      "\u001b[1;31m---------------------------------------------------------------------------\u001b[0m",
      "\u001b[1;31mError\u001b[0m                                     Traceback (most recent call last)",
      "Cell \u001b[1;32mIn[43], line 1\u001b[0m\n\u001b[1;32m----> 1\u001b[0m \u001b[43mphish_api\u001b[49m\u001b[38;5;241;43m.\u001b[39;49m\u001b[43mgroups\u001b[49m\u001b[38;5;241;43m.\u001b[39;49m\u001b[43mpost\u001b[49m\u001b[43m(\u001b[49m\u001b[43mgroup_2\u001b[49m\u001b[43m)\u001b[49m\n",
      "File \u001b[1;32mc:\\Python311\\Lib\\site-packages\\gophish\\api\\groups.py:15\u001b[0m, in \u001b[0;36mAPI.post\u001b[1;34m(self, group)\u001b[0m\n\u001b[0;32m     13\u001b[0m \u001b[38;5;28;01mdef\u001b[39;00m \u001b[38;5;21mpost\u001b[39m(\u001b[38;5;28mself\u001b[39m, group):\n\u001b[0;32m     14\u001b[0m \u001b[38;5;250m    \u001b[39m\u001b[38;5;124;03m\"\"\" Creates a new group \"\"\"\u001b[39;00m\n\u001b[1;32m---> 15\u001b[0m     \u001b[38;5;28;01mreturn\u001b[39;00m \u001b[38;5;28;43msuper\u001b[39;49m\u001b[43m(\u001b[49m\u001b[43mAPI\u001b[49m\u001b[43m,\u001b[49m\u001b[43m \u001b[49m\u001b[38;5;28;43mself\u001b[39;49m\u001b[43m)\u001b[49m\u001b[38;5;241;43m.\u001b[39;49m\u001b[43mpost\u001b[49m\u001b[43m(\u001b[49m\u001b[43mgroup\u001b[49m\u001b[43m)\u001b[49m\n",
      "File \u001b[1;32mc:\\Python311\\Lib\\site-packages\\gophish\\api\\api.py:106\u001b[0m, in \u001b[0;36mAPIEndpoint.post\u001b[1;34m(self, resource)\u001b[0m\n\u001b[0;32m    101\u001b[0m response \u001b[38;5;241m=\u001b[39m \u001b[38;5;28mself\u001b[39m\u001b[38;5;241m.\u001b[39mapi\u001b[38;5;241m.\u001b[39mexecute(\u001b[38;5;124m\"\u001b[39m\u001b[38;5;124mPOST\u001b[39m\u001b[38;5;124m\"\u001b[39m,\n\u001b[0;32m    102\u001b[0m                             \u001b[38;5;28mself\u001b[39m\u001b[38;5;241m.\u001b[39mendpoint,\n\u001b[0;32m    103\u001b[0m                             json\u001b[38;5;241m=\u001b[39m(resource\u001b[38;5;241m.\u001b[39mas_dict()))\n\u001b[0;32m    105\u001b[0m \u001b[38;5;28;01mif\u001b[39;00m \u001b[38;5;129;01mnot\u001b[39;00m response\u001b[38;5;241m.\u001b[39mok:\n\u001b[1;32m--> 106\u001b[0m     \u001b[38;5;28;01mraise\u001b[39;00m Error\u001b[38;5;241m.\u001b[39mparse(response\u001b[38;5;241m.\u001b[39mjson())\n\u001b[0;32m    108\u001b[0m \u001b[38;5;28;01mreturn\u001b[39;00m \u001b[38;5;28mself\u001b[39m\u001b[38;5;241m.\u001b[39m_cls\u001b[38;5;241m.\u001b[39mparse(response\u001b[38;5;241m.\u001b[39mjson())\n",
      "\u001b[1;31mError\u001b[0m: Group name already in use"
     ]
    }
   ],
   "source": [
    "phish_api.groups.post(group_2)"
   ]
  },
  {
   "cell_type": "code",
   "execution_count": 75,
   "metadata": {},
   "outputs": [],
   "source": [
    "campaign = Campaign(\n",
    "    name=\"Document Sign Scam\",\n",
    "    template=Template(name=\"Docu Sign Scam\"),\n",
    "    page = Page(name=\"Document Sign Page\"),\n",
    "    smtp=SMTP(name=\"Document Sign\"),\n",
    "    groups=[Group(name=\"Example Gr\")],\n",
    "    url=\"http://127.0.0.1\"\n",
    ")"
   ]
  },
  {
   "cell_type": "code",
   "execution_count": 76,
   "metadata": {},
   "outputs": [
    {
     "name": "stderr",
     "output_type": "stream",
     "text": [
      "c:\\Python311\\Lib\\site-packages\\urllib3\\connectionpool.py:981: InsecureRequestWarning: Unverified HTTPS request is being made to host 'localhost'. Adding certificate verification is strongly advised. See: https://urllib3.readthedocs.io/en/latest/advanced-usage.html#ssl-warnings\n",
      "  warnings.warn(\n"
     ]
    },
    {
     "data": {
      "text/plain": [
       "<gophish.models.Campaign at 0x25a15ba2210>"
      ]
     },
     "execution_count": 76,
     "metadata": {},
     "output_type": "execute_result"
    }
   ],
   "source": [
    "phish_api.campaigns.post(campaign)"
   ]
  },
  {
   "cell_type": "code",
   "execution_count": 35,
   "metadata": {},
   "outputs": [
    {
     "data": {
      "text/plain": [
       "{'id': None,\n",
       " 'name': 'Document Sign Scam',\n",
       " 'created_date': datetime.datetime(2025, 1, 17, 9, 39, 1, 790852, tzinfo=tzlocal()),\n",
       " 'launch_date': datetime.datetime(2025, 1, 17, 9, 39, 1, 790852, tzinfo=tzlocal()),\n",
       " 'send_by_date': None,\n",
       " 'completed_date': None,\n",
       " 'template': <gophish.models.Template at 0x25a15905490>,\n",
       " 'page': <gophish.models.Page at 0x25a15979750>,\n",
       " 'results': [],\n",
       " 'status': None,\n",
       " 'timeline': [],\n",
       " 'smtp': <gophish.models.SMTP at 0x25a15af8950>,\n",
       " 'url': None,\n",
       " 'groups': [{'name': 'Example Gr',\n",
       "   'modified_date': '2025-01-17T09:39:01.791356+01:00'}]}"
      ]
     },
     "execution_count": 35,
     "metadata": {},
     "output_type": "execute_result"
    }
   ],
   "source": [
    "campaign.__dict__"
   ]
  },
  {
   "cell_type": "code",
   "execution_count": 62,
   "metadata": {},
   "outputs": [
    {
     "name": "stderr",
     "output_type": "stream",
     "text": [
      "c:\\Python311\\Lib\\site-packages\\urllib3\\connectionpool.py:981: InsecureRequestWarning: Unverified HTTPS request is being made to host 'localhost'. Adding certificate verification is strongly advised. See: https://urllib3.readthedocs.io/en/latest/advanced-usage.html#ssl-warnings\n",
      "  warnings.warn(\n"
     ]
    },
    {
     "data": {
      "text/plain": [
       "{'id': 3,\n",
       " 'name': 'Cybersecurity Awareness Scam',\n",
       " 'created_date': '2025-01-15T14:58:31.8999001Z',\n",
       " 'launch_date': '2025-01-15T13:20:27.411353Z',\n",
       " 'send_by_date': '0001-01-01T00:00:00Z',\n",
       " 'completed_date': '0001-01-01T00:00:00Z',\n",
       " 'template': <gophish.models.Template at 0x199bd2ffb50>,\n",
       " 'page': <gophish.models.Page at 0x199bd179ed0>,\n",
       " 'results': [<gophish.models.Result at 0x199bd2fda10>],\n",
       " 'status': 'In progress',\n",
       " 'timeline': [<gophish.models.TimelineEntry at 0x199bd2fc8d0>,\n",
       "  <gophish.models.TimelineEntry at 0x199bd350210>],\n",
       " 'smtp': <gophish.models.SMTP at 0x199bd2ff5d0>,\n",
       " 'url': '',\n",
       " 'groups': []}"
      ]
     },
     "execution_count": 62,
     "metadata": {},
     "output_type": "execute_result"
    }
   ],
   "source": [
    "camp = phish_api.campaigns.get(3)\n",
    "camp.__dict__"
   ]
  },
  {
   "cell_type": "code",
   "execution_count": 65,
   "metadata": {},
   "outputs": [
    {
     "name": "stdout",
     "output_type": "stream",
     "text": [
      "{'id': 'gVZGtHU', 'first_name': 'Aleksander', 'last_name': 'Szostakowski', 'email': 'aleksander.szostakowski@gmail.com', 'position': 'big boss', 'ip': '', 'latitude': 0, 'longitude': 0, 'status': 'Email Sent'}\n"
     ]
    }
   ],
   "source": [
    "for x in camp.results:\n",
    "    print(x.__dict__)"
   ]
  },
  {
   "cell_type": "code",
   "execution_count": null,
   "metadata": {},
   "outputs": [],
   "source": []
  }
 ],
 "metadata": {
  "kernelspec": {
   "display_name": "Python 3",
   "language": "python",
   "name": "python3"
  },
  "language_info": {
   "codemirror_mode": {
    "name": "ipython",
    "version": 3
   },
   "file_extension": ".py",
   "mimetype": "text/x-python",
   "name": "python",
   "nbconvert_exporter": "python",
   "pygments_lexer": "ipython3",
   "version": "3.11.0"
  }
 },
 "nbformat": 4,
 "nbformat_minor": 2
}
