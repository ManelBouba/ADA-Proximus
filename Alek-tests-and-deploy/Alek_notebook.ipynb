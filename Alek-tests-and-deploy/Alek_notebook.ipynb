{
 "cells": [
  {
   "cell_type": "code",
   "execution_count": 1,
   "metadata": {},
   "outputs": [],
   "source": [
    "import random\n",
    "from gophish import Gophish\n",
    "from gophish.models import SMTP, Page, Template, Campaign, User, Group\n",
    "import urllib3\n",
    "import json"
   ]
  },
  {
   "cell_type": "code",
   "execution_count": 3,
   "metadata": {},
   "outputs": [],
   "source": [
    "config_file = \"Alek_config.json\"\n",
    "\n",
    "with open(config_file, \"r\") as file:\n",
    "    config = json.load(file)\n",
    "    GOPHISH_API_KEY = config.get(\"GOPHISH_API_KEY\")\n",
    "    gmail_pass = config.get(\"gmail_pass\")"
   ]
  },
  {
   "cell_type": "code",
   "execution_count": 4,
   "metadata": {},
   "outputs": [],
   "source": [
    "phish_api = Gophish(GOPHISH_API_KEY, verify=False)"
   ]
  },
  {
   "cell_type": "code",
   "execution_count": 7,
   "metadata": {},
   "outputs": [],
   "source": [
    "# SMTP Sending Profile Data\n",
    "sending_profile = SMTP(\n",
    "    name=\"Document Sign\",\n",
    "    from_address=\"aleksander.szostakowski@gmail.com\",  # Replace with your email address\n",
    "    from_name=\"Docusign\",\n",
    "    reply_to_address=\"aleksander.szostakowski@gmail.com\",  # Replace with your email address\n",
    "    host=\"smtp.gmail.com:587\",  # Replace with your SMTP server host\n",
    "    username=\"aleksander.szostakowski@gmail.com\",  # Replace with your SMTP username\n",
    "    password=gmail_pass,  # Replace with your SMTP password\n",
    "    port=587,  # SMTP port (use 465 for SSL, 587 for TLS)\n",
    "    tls=True,  # Use TLS if needed\n",
    "    ssl=False,  # Use SSL if needed\n",
    ")\n"
   ]
  },
  {
   "cell_type": "code",
   "execution_count": 8,
   "metadata": {},
   "outputs": [
    {
     "name": "stderr",
     "output_type": "stream",
     "text": [
      "c:\\Python311\\Lib\\site-packages\\urllib3\\connectionpool.py:981: InsecureRequestWarning: Unverified HTTPS request is being made to host 'localhost'. Adding certificate verification is strongly advised. See: https://urllib3.readthedocs.io/en/latest/advanced-usage.html#ssl-warnings\n",
      "  warnings.warn(\n"
     ]
    }
   ],
   "source": [
    "smtp = phish_api.smtp.post(sending_profile)"
   ]
  },
  {
   "cell_type": "code",
   "execution_count": 14,
   "metadata": {},
   "outputs": [
    {
     "name": "stdout",
     "output_type": "stream",
     "text": [
      "{'id': 2, 'interface_type': 'SMTP', 'name': 'Training Sending Profile', 'host': 'smtp.gmail.com:587', 'username': 'aleksander.szostakowski@gmail.com', 'password': 'icil uzig kfil fjba', 'from_address': 'aleksander.szostakowski@gmail.com', 'ignore_cert_errors': False, 'modified_date': datetime.datetime(2025, 1, 15, 13, 54, 40, 328839, tzinfo=tzutc()), 'headers': []}\n",
      "{'id': 3, 'interface_type': 'SMTP', 'name': 'Document Sign', 'host': 'smtp.gmail.com:587', 'username': 'aleksander.szostakowski@gmail.com', 'password': 'icil uzig kfil fjba', 'from_address': 'aleksander.szostakowski@gmail.com', 'ignore_cert_errors': False, 'modified_date': datetime.datetime(2025, 1, 16, 13, 54, 20, 361290, tzinfo=tzutc()), 'headers': []}\n"
     ]
    },
    {
     "name": "stderr",
     "output_type": "stream",
     "text": [
      "c:\\Python311\\Lib\\site-packages\\urllib3\\connectionpool.py:981: InsecureRequestWarning: Unverified HTTPS request is being made to host 'localhost'. Adding certificate verification is strongly advised. See: https://urllib3.readthedocs.io/en/latest/advanced-usage.html#ssl-warnings\n",
      "  warnings.warn(\n"
     ]
    }
   ],
   "source": [
    "for mod in phish_api.smtp.get():\n",
    "    print(mod.__dict__)"
   ]
  },
  {
   "cell_type": "code",
   "execution_count": 19,
   "metadata": {},
   "outputs": [],
   "source": []
  },
  {
   "cell_type": "code",
   "execution_count": 38,
   "metadata": {},
   "outputs": [],
   "source": [
    "dummy_html = \"<html><head><title></title></head><body><h1>Click here</h1><p><a href=''>Faaaaaast</a></p></body></html>\""
   ]
  },
  {
   "cell_type": "code",
   "execution_count": 42,
   "metadata": {},
   "outputs": [],
   "source": [
    "dummy_landing = f'<html><head>\t<title></title></head><body><p><b>Stuuuupid</b></p><form action=\"\"><label for=\"email\">Email:</label> <input id=\"email\" name=\"email\" type=\"email\"/><br/><br/><label for=\"pwd\">Password:</label> <input id=\"pwd\" minlength=\"8\" name=\"password\" type=\"password\"/><br/><br/><input type=\"submit\"/></form></body></html>'"
   ]
  },
  {
   "cell_type": "code",
   "execution_count": null,
   "metadata": {},
   "outputs": [],
   "source": [
    "group_2 = Group(name='Example Gr', targets=[User(first_name='Alek', last_name='Szostakowski', email='aleksander.szostakowski@gmail.com', posistion='data janitor')])"
   ]
  },
  {
   "cell_type": "code",
   "execution_count": 51,
   "metadata": {},
   "outputs": [],
   "source": [
    "campaign = Campaign(\n",
    "    name=\"Cybersecurity Awareness Scam\",\n",
    "    template = Template(name=\"self\"),\n",
    "    page = Page(name=\"self\"),\n",
    "    smtp=smtp,\n",
    "    groups=[Group(name=\"self\")]\n",
    ")"
   ]
  },
  {
   "cell_type": "code",
   "execution_count": 52,
   "metadata": {},
   "outputs": [
    {
     "name": "stderr",
     "output_type": "stream",
     "text": [
      "c:\\Python311\\Lib\\site-packages\\urllib3\\connectionpool.py:981: InsecureRequestWarning: Unverified HTTPS request is being made to host 'localhost'. Adding certificate verification is strongly advised. See: https://urllib3.readthedocs.io/en/latest/advanced-usage.html#ssl-warnings\n",
      "  warnings.warn(\n"
     ]
    },
    {
     "data": {
      "text/plain": [
       "<gophish.models.Campaign at 0x199bcbdcb10>"
      ]
     },
     "execution_count": 52,
     "metadata": {},
     "output_type": "execute_result"
    }
   ],
   "source": [
    "phish_api.campaigns.post(campaign)"
   ]
  },
  {
   "cell_type": "code",
   "execution_count": 54,
   "metadata": {},
   "outputs": [
    {
     "data": {
      "text/plain": [
       "{'id': None,\n",
       " 'name': 'Cybersecurity Awareness Scam',\n",
       " 'created_date': datetime.datetime(2025, 1, 15, 14, 20, 27, 411353, tzinfo=tzlocal()),\n",
       " 'launch_date': datetime.datetime(2025, 1, 15, 14, 20, 27, 411353, tzinfo=tzlocal()),\n",
       " 'send_by_date': None,\n",
       " 'completed_date': None,\n",
       " 'template': <gophish.models.Template at 0x199bd1435d0>,\n",
       " 'page': <gophish.models.Page at 0x199bd179e90>,\n",
       " 'results': [],\n",
       " 'status': None,\n",
       " 'timeline': [],\n",
       " 'smtp': <gophish.models.SMTP at 0x199bc5a49d0>,\n",
       " 'url': None,\n",
       " 'groups': [{'name': 'self',\n",
       "   'modified_date': '2025-01-15T14:20:27.411353+01:00'}]}"
      ]
     },
     "execution_count": 54,
     "metadata": {},
     "output_type": "execute_result"
    }
   ],
   "source": [
    "campaign.__dict__"
   ]
  },
  {
   "cell_type": "code",
   "execution_count": 62,
   "metadata": {},
   "outputs": [
    {
     "name": "stderr",
     "output_type": "stream",
     "text": [
      "c:\\Python311\\Lib\\site-packages\\urllib3\\connectionpool.py:981: InsecureRequestWarning: Unverified HTTPS request is being made to host 'localhost'. Adding certificate verification is strongly advised. See: https://urllib3.readthedocs.io/en/latest/advanced-usage.html#ssl-warnings\n",
      "  warnings.warn(\n"
     ]
    },
    {
     "data": {
      "text/plain": [
       "{'id': 3,\n",
       " 'name': 'Cybersecurity Awareness Scam',\n",
       " 'created_date': '2025-01-15T14:58:31.8999001Z',\n",
       " 'launch_date': '2025-01-15T13:20:27.411353Z',\n",
       " 'send_by_date': '0001-01-01T00:00:00Z',\n",
       " 'completed_date': '0001-01-01T00:00:00Z',\n",
       " 'template': <gophish.models.Template at 0x199bd2ffb50>,\n",
       " 'page': <gophish.models.Page at 0x199bd179ed0>,\n",
       " 'results': [<gophish.models.Result at 0x199bd2fda10>],\n",
       " 'status': 'In progress',\n",
       " 'timeline': [<gophish.models.TimelineEntry at 0x199bd2fc8d0>,\n",
       "  <gophish.models.TimelineEntry at 0x199bd350210>],\n",
       " 'smtp': <gophish.models.SMTP at 0x199bd2ff5d0>,\n",
       " 'url': '',\n",
       " 'groups': []}"
      ]
     },
     "execution_count": 62,
     "metadata": {},
     "output_type": "execute_result"
    }
   ],
   "source": [
    "camp = phish_api.campaigns.get(3)\n",
    "camp.__dict__"
   ]
  },
  {
   "cell_type": "code",
   "execution_count": 65,
   "metadata": {},
   "outputs": [
    {
     "name": "stdout",
     "output_type": "stream",
     "text": [
      "{'id': 'gVZGtHU', 'first_name': 'Aleksander', 'last_name': 'Szostakowski', 'email': 'aleksander.szostakowski@gmail.com', 'position': 'big boss', 'ip': '', 'latitude': 0, 'longitude': 0, 'status': 'Email Sent'}\n"
     ]
    }
   ],
   "source": [
    "for x in camp.results:\n",
    "    print(x.__dict__)"
   ]
  },
  {
   "cell_type": "code",
   "execution_count": null,
   "metadata": {},
   "outputs": [],
   "source": []
  }
 ],
 "metadata": {
  "kernelspec": {
   "display_name": "Python 3",
   "language": "python",
   "name": "python3"
  },
  "language_info": {
   "codemirror_mode": {
    "name": "ipython",
    "version": 3
   },
   "file_extension": ".py",
   "mimetype": "text/x-python",
   "name": "python",
   "nbconvert_exporter": "python",
   "pygments_lexer": "ipython3",
   "version": "3.11.0"
  }
 },
 "nbformat": 4,
 "nbformat_minor": 2
}
